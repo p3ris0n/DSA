{
 "cells": [
  {
   "cell_type": "code",
   "execution_count": 9,
   "metadata": {},
   "outputs": [],
   "source": [
    "# an algorithm for calc if an equation is correct.\n",
    "\n",
    "def solution(num1, num2):\n",
    "    return num1 + num2"
   ]
  },
  {
   "cell_type": "code",
   "execution_count": 10,
   "metadata": {},
   "outputs": [
    {
     "name": "stdout",
     "output_type": "stream",
     "text": [
      "Ok\n"
     ]
    }
   ],
   "source": [
    "from nose.tools import assert_equal\n",
    "\n",
    "class solutiontest(object):\n",
    "    def test(self, sol):\n",
    "        assert_equal(sol(2,2),4) # for sol(2,2),4 means 2+2 = 4\n",
    "        assert_equal(sol(4,4),8)\n",
    "\n",
    "        print(\"Ok\")\n",
    "\n",
    "# run test.\n",
    "t = solutiontest()\n",
    "t.test(solution)"
   ]
  },
  {
   "cell_type": "markdown",
   "metadata": {},
   "source": [
    "Testing And Anaysing Algorithms"
   ]
  },
  {
   "cell_type": "code",
   "execution_count": 18,
   "metadata": {},
   "outputs": [
    {
     "data": {
      "text/plain": [
       "15"
      ]
     },
     "execution_count": 18,
     "metadata": {},
     "output_type": "execute_result"
    }
   ],
   "source": [
    "# first algorithm.\n",
    "\n",
    "def sum0(n):\n",
    "    final_sum = 0 # current value of x = 0\n",
    "\n",
    "    for x in range(n+1): # iterate through x (final sum) adding 1 in the number of times dedicated to n.\n",
    "        final_sum += x # final sum = 0 + 1 = 1, final sum 1 + 2 = 3, final sum = 3 + 4 = 5... \n",
    "\n",
    "    return final_sum\n",
    "\n",
    "sum0(5) # 0+1+2+...+10 "
   ]
  },
  {
   "cell_type": "code",
   "execution_count": 22,
   "metadata": {},
   "outputs": [
    {
     "data": {
      "text/plain": [
       "15"
      ]
     },
     "execution_count": 22,
     "metadata": {},
     "output_type": "execute_result"
    }
   ],
   "source": [
    "# second algo\n",
    "\n",
    "def sum1(n):\n",
    "    return int(n*(n+1)/2)\n",
    "\n",
    "sum1(5)"
   ]
  },
  {
   "cell_type": "code",
   "execution_count": 21,
   "metadata": {},
   "outputs": [
    {
     "name": "stdout",
     "output_type": "stream",
     "text": [
      "756 ns ± 141 ns per loop (mean ± std. dev. of 7 runs, 1000000 loops each)\n"
     ]
    }
   ],
   "source": [
    "%timeit sum1(5)"
   ]
  },
  {
   "cell_type": "markdown",
   "metadata": {},
   "source": [
    "Big O Notation - Examples"
   ]
  },
  {
   "cell_type": "code",
   "execution_count": 23,
   "metadata": {},
   "outputs": [
    {
     "name": "stdout",
     "output_type": "stream",
     "text": [
      "1\n"
     ]
    }
   ],
   "source": [
    "# an O(1) constant.\n",
    "def func_constant(values):\n",
    "    print(values[0])\n",
    "\n",
    "lst = [1,2,4]\n",
    "func_constant(lst)"
   ]
  },
  {
   "cell_type": "code",
   "execution_count": 24,
   "metadata": {},
   "outputs": [
    {
     "name": "stdout",
     "output_type": "stream",
     "text": [
      "1\n",
      "2\n",
      "4\n"
     ]
    }
   ],
   "source": [
    "# an O(n) linear\n",
    "\n",
    "def func_linear(lst):\n",
    "    for v in lst:\n",
    "        print(v)\n",
    "\n",
    "func_linear(lst)"
   ]
  },
  {
   "cell_type": "code",
   "execution_count": 25,
   "metadata": {},
   "outputs": [
    {
     "name": "stdout",
     "output_type": "stream",
     "text": [
      "1 1\n",
      "1 2\n",
      "1 4\n",
      "2 1\n",
      "2 2\n",
      "2 4\n",
      "4 1\n",
      "4 2\n",
      "4 4\n"
     ]
    }
   ],
   "source": [
    "# an O(n^2) Quadratic - a quad notation takes n elements twice.\n",
    "\n",
    "def func_quad(lst):\n",
    "    for item_1 in lst:\n",
    "        for item_2 in lst:\n",
    "            print(item_1, item_2)\n",
    "\n",
    "func_quad(lst)\n"
   ]
  },
  {
   "cell_type": "code",
   "execution_count": 28,
   "metadata": {},
   "outputs": [
    {
     "name": "stdout",
     "output_type": "stream",
     "text": [
      "(True, 2)\n"
     ]
    }
   ],
   "source": [
    "def matcher(lst, match):\n",
    "    if not lst:\n",
    "        return\n",
    "    else:\n",
    "        for item in lst:\n",
    "            if item == match:\n",
    "                return True, item\n",
    "        return False, \"item not found in list.\"\n",
    "    \n",
    "\n",
    "print(matcher(lst,2))"
   ]
  },
  {
   "cell_type": "code",
   "execution_count": 32,
   "metadata": {},
   "outputs": [
    {
     "data": {
      "text/plain": [
       "['james',\n",
       " 'james',\n",
       " 'james',\n",
       " 'james',\n",
       " 'james',\n",
       " 'james',\n",
       " 'james',\n",
       " 'james',\n",
       " 'james',\n",
       " 'james']"
      ]
     },
     "execution_count": 32,
     "metadata": {},
     "output_type": "execute_result"
    }
   ],
   "source": [
    "def create_list(n): # this entire function is an O(1) space complexity\n",
    "                    # the value \"james\" is constant in memory, hence; it attributes\n",
    "                    # only one value to memory. therefore; it saves just one value and not \n",
    "                    # \"n\" different values.\n",
    "    lst = []\n",
    "\n",
    "    for i in range(n):\n",
    "        lst.append(\"james\")\n",
    "\n",
    "    return lst\n",
    "\n",
    "create_list(10)"
   ]
  },
  {
   "cell_type": "markdown",
   "metadata": {},
   "source": [
    "Arrays"
   ]
  },
  {
   "cell_type": "markdown",
   "metadata": {},
   "source": [
    "Dynamic Arrays"
   ]
  },
  {
   "cell_type": "code",
   "execution_count": 1,
   "metadata": {},
   "outputs": [
    {
     "name": "stdout",
     "output_type": "stream",
     "text": [
      "Array is full.\n",
      "recalculating.\n",
      "doubling capacity.\n",
      "<__main__.dynamic_arrays object at 0x000002582E177430>\n"
     ]
    }
   ],
   "source": [
    "import ctypes\n",
    "\n",
    "\n",
    "class dynamic_arrays(object):\n",
    "\n",
    "    def __init__(self) -> None:\n",
    "        self.n = 0 # initializing the array, starting from 0. hence; the count value is null.\n",
    "        self.capacity = 1 # we set the capacity of the array to only take 1 value.\n",
    "        self.A = self.make_array(self.capacity)\n",
    "\n",
    "    #helper method - return number of elements stored in array.\n",
    "    def __len__(self):\n",
    "        return self.n\n",
    "\n",
    "    def __getitem__(self,k):\n",
    "        if not 0 <= k < self.n: # this function is basically calc. for the index, \n",
    "                                # the index needs to be between 0 and the amount \n",
    "                                # of elements in the array, else: we have an index error.\n",
    "            return IndexError, \"K is out of bounds!\" \n",
    "        \n",
    "        else:\n",
    "            return self.A[k]\n",
    "        \n",
    "    \n",
    "    def append(self, element):\n",
    "        if self.n == self.capacity: # if current count equals max capacity, double the capacity.\n",
    "            print(\"Array is full.\")\n",
    "            print(\"recalculating.\")\n",
    "            print(\"doubling capacity.\")\n",
    "            self._resize(2*self.capacity) # we are increasing the capacity by x2, if capacity is full.\n",
    "\n",
    "        self.A[self.n] = element # \"n\" is the count of the element(hence; the index) therefore, \n",
    "                                 # array A current index \n",
    "                                 # equals the element we want to append.\n",
    "        self.n += 1 # hence; index increases by 1.\n",
    "\n",
    "    #helper function - developing the resize method.\n",
    "    def _resize(self, new_capacity):\n",
    "        B = self.make_array(new_capacity) # the \"new\", bigger array. An array with the x2 capacity.\n",
    "        for k in range(self.n):\n",
    "            B[k] = self.A[k] # all \"k\" values gets sent to B, i.e. all indexes get sent to B.\n",
    "\n",
    "        self.A = B # array A elements are now in the bigger array; B\n",
    "        self.capacity = new_capacity\n",
    "\n",
    "    # helper function - creation of the array.\n",
    "    def make_array(self, new_capacity):\n",
    "        return (new_capacity*ctypes.py_object )()\n",
    "    \n",
    "\n",
    "array = dynamic_arrays()#\n",
    "array.append(1)\n",
    "len(array)\n",
    "array.append(2) # appended a new element\n",
    "len(array)\n",
    "array[0] # return if index has a value.\n",
    "print(array)"
   ]
  },
  {
   "cell_type": "markdown",
   "metadata": {},
   "source": [
    "Array interview problems - Anagram Check."
   ]
  },
  {
   "cell_type": "code",
   "execution_count": 16,
   "metadata": {},
   "outputs": [
    {
     "data": {
      "text/plain": [
       "True"
      ]
     },
     "execution_count": 16,
     "metadata": {},
     "output_type": "execute_result"
    }
   ],
   "source": [
    "# an anagram is a set of words\n",
    "# that is the same length and has\n",
    "# the same combination of letters. (this doesn't really matter when writting the algo)\n",
    "\n",
    "import sys # instead of using the \"break\" function, we use sys.exit()\n",
    "\n",
    "def anagram(s1, s2):\n",
    "    if len(s1) == len(s2): # checking for the length of the letters\n",
    "        s1.replace(\" \", \"\").lower() # if lenghts match, we remove spaces and lowercase them.\n",
    "        s2.replace(\" \", \"\").lower()\n",
    "\n",
    "    else:\n",
    "        sys.exit() # else, we exit the program.\n",
    "    return sorted(s1) == sorted(s2) # if length match we return \"sorted\" of the list. \n",
    "                                    # is \"sorted\" a boolean value? \n",
    "\n",
    "\n",
    "anagram(\"esi\", \"esi\")\n",
    "    "
   ]
  },
  {
   "cell_type": "code",
   "execution_count": 9,
   "metadata": {},
   "outputs": [
    {
     "data": {
      "text/plain": [
       "'False Length.'"
      ]
     },
     "execution_count": 9,
     "metadata": {},
     "output_type": "execute_result"
    }
   ],
   "source": [
    "# anagram checker - solution 2.\n",
    "import sys\n",
    "\n",
    "def anagram(string1, string2):\n",
    "    string1 = string1.replace(\" \", \"\").lower()\n",
    "    string2 = string2.replace(\" \", \"\").lower()\n",
    "\n",
    "    count = {} # \"count\" function to store the letters of the word.\n",
    "\n",
    "    # edge case.\n",
    "    if len(string1) != len(string2):\n",
    "        return \"False Length.\"\n",
    "        #sys.exit()\n",
    "    if len(string1) == len(string2):\n",
    "        return True, \"True Length\"\n",
    "\n",
    "    for letter in string1:\n",
    "        if letter in count:\n",
    "            count[letter] += 1 # all letter are already stored in count, so if a letter is tried again,\n",
    "                               # we would just append the next letter. else,\n",
    "        else:\n",
    "            count[letter] = 1 # count = 1.\n",
    "\n",
    "    for letter in string2:\n",
    "        if letter in count:\n",
    "            count[letter] -= 1 # if the letter is in \"count\" already, and string 1 and 2 are anagrams,\n",
    "                               # we don't need to append \"same letter\" in string 2 to count, \n",
    "                               # hence string1 = string2 and since string1 has moved a value to count,\n",
    "                               # string2 also has, therefore the diff between strings 1 and 2 should be = 0.\n",
    "\n",
    "        else:\n",
    "            count[letter] = 1 # else, count = 1\n",
    "\n",
    "    for k in count:\n",
    "        if count[k] != 0:\n",
    "            return False\n",
    "    \n",
    "    return True\n",
    "\n",
    "    #return sorted(string1) == sorted(string2)\n",
    "\n",
    "#Jupyter can't handle input statements.\n",
    "\n",
    "#string1 = str(input(\"string 1: \"))\n",
    "#string2 = str(input(\"string 2: \"))\n",
    "anagram(\"string\", \"ass\")\n",
    "    "
   ]
  },
  {
   "cell_type": "markdown",
   "metadata": {},
   "source": [
    "Array Pair Sum"
   ]
  },
  {
   "cell_type": "code",
   "execution_count": 47,
   "metadata": {},
   "outputs": [
    {
     "name": "stdout",
     "output_type": "stream",
     "text": [
      "(2, 4)\n",
      "(1, 5)\n",
      "(-1, 7)\n",
      "(0, 6)\n",
      "(-3, 9)\n",
      "(3, 3)\n"
     ]
    }
   ],
   "source": [
    "# this code block bring out the pair sum with elements NOT in the array.\n",
    "# if we want to fix this.\n",
    "# in the if statement, \"if target not in seen: seen.add(num)\" \n",
    "# instead of the if block inside the for loop.\n",
    "\n",
    "def pair_sum(arr, k):\n",
    "    if len(arr) < 2: # if array contains 1 or no elements.\n",
    "        return arr, \"this array contains less than 2 elements.\"\n",
    "    else:\n",
    "        seen = set()\n",
    "        output = set()\n",
    "        for i in arr:\n",
    "            target = k - i\n",
    "\n",
    "            if i in seen:\n",
    "                seen.add(target)\n",
    "                \n",
    "            else:\n",
    "                output.add(((min(i, target)), max(i, target)))\n",
    "\n",
    "    print('\\n'.join(map(str, list(output))))\n",
    "\n",
    "pair_sum([1,2,3,4,6,7,9], 6)\n"
   ]
  },
  {
   "cell_type": "markdown",
   "metadata": {},
   "source": [
    "Find the Missing Element"
   ]
  },
  {
   "cell_type": "code",
   "execution_count": null,
   "metadata": {},
   "outputs": [],
   "source": [
    "import random\n",
    "import numpy as np\n",
    "\n",
    "class Array:\n",
    "    def __init__(self):\n",
    "        self.arr = None\n",
    "        self.n = 0\n",
    "\n",
    "    def __len__(self):\n",
    "        return self.n\n",
    "\n",
    "    def make_array(arr):\n",
    "        for k in arr:\n",
    "\n",
    "            arr2 = random.shuffle(self.arr)\n",
    "\n",
    "        np.random.choice(arr2)\n",
    "\n",
    "    def find_element(self, arr1, arr2):\n",
    "        if len(sorted(arr2)) == len(arr1):\n",
    "            return \"there are no missing elements.\"\n",
    "        else:\n",
    "            seen = set()\n",
    "            for k in arr2:\n",
    "                if k not in seen():\n",
    "                    return k\n",
    "\n",
    "Array = arr()\n",
    "arr1 = [1,2,3,4]\n",
    "\n",
    "\n",
    "                        \n",
    "    "
   ]
  },
  {
   "cell_type": "code",
   "execution_count": 2,
   "metadata": {},
   "outputs": [
    {
     "ename": "TypeError",
     "evalue": "'module' object is not callable",
     "output_type": "error",
     "traceback": [
      "\u001b[1;31m---------------------------------------------------------------------------\u001b[0m",
      "\u001b[1;31mTypeError\u001b[0m                                 Traceback (most recent call last)",
      "\u001b[1;32mC:\\Users\\DANIEL~1\\AppData\\Local\\Temp/ipykernel_4152/4097562231.py\u001b[0m in \u001b[0;36m<module>\u001b[1;34m\u001b[0m\n\u001b[0;32m     28\u001b[0m \u001b[0mArr0\u001b[0m \u001b[1;33m=\u001b[0m \u001b[0mArray\u001b[0m\u001b[1;33m(\u001b[0m\u001b[1;33m)\u001b[0m\u001b[1;33m\u001b[0m\u001b[1;33m\u001b[0m\u001b[0m\n\u001b[0;32m     29\u001b[0m \u001b[0marrr\u001b[0m \u001b[1;33m=\u001b[0m \u001b[1;33m[\u001b[0m\u001b[1;36m1\u001b[0m\u001b[1;33m,\u001b[0m\u001b[1;36m2\u001b[0m\u001b[1;33m,\u001b[0m\u001b[1;36m3\u001b[0m\u001b[1;33m,\u001b[0m\u001b[1;36m4\u001b[0m\u001b[1;33m,\u001b[0m\u001b[1;36m5\u001b[0m\u001b[1;33m,\u001b[0m\u001b[1;36m6\u001b[0m\u001b[1;33m]\u001b[0m\u001b[1;33m\u001b[0m\u001b[1;33m\u001b[0m\u001b[0m\n\u001b[1;32m---> 30\u001b[1;33m \u001b[0mmake_array\u001b[0m\u001b[1;33m(\u001b[0m\u001b[0marrr\u001b[0m\u001b[1;33m)\u001b[0m\u001b[1;33m\u001b[0m\u001b[1;33m\u001b[0m\u001b[0m\n\u001b[0m\u001b[0;32m     31\u001b[0m \u001b[1;33m\u001b[0m\u001b[0m\n\u001b[0;32m     32\u001b[0m \u001b[1;33m\u001b[0m\u001b[0m\n",
      "\u001b[1;32mC:\\Users\\DANIEL~1\\AppData\\Local\\Temp/ipykernel_4152/4097562231.py\u001b[0m in \u001b[0;36mmake_array\u001b[1;34m(arr)\u001b[0m\n\u001b[0;32m     12\u001b[0m \u001b[1;33m\u001b[0m\u001b[0m\n\u001b[0;32m     13\u001b[0m \u001b[1;32mdef\u001b[0m \u001b[0mmake_array\u001b[0m\u001b[1;33m(\u001b[0m\u001b[0marr\u001b[0m\u001b[1;33m)\u001b[0m\u001b[1;33m:\u001b[0m\u001b[1;33m\u001b[0m\u001b[1;33m\u001b[0m\u001b[0m\n\u001b[1;32m---> 14\u001b[1;33m     \u001b[0marr2\u001b[0m \u001b[1;33m=\u001b[0m \u001b[0mrandom\u001b[0m\u001b[1;33m(\u001b[0m\u001b[0marr\u001b[0m\u001b[1;33m)\u001b[0m\u001b[1;33m\u001b[0m\u001b[1;33m\u001b[0m\u001b[0m\n\u001b[0m\u001b[0;32m     15\u001b[0m     \u001b[1;32mfor\u001b[0m \u001b[0mi\u001b[0m \u001b[1;32min\u001b[0m \u001b[0marr2\u001b[0m\u001b[1;33m:\u001b[0m\u001b[1;33m\u001b[0m\u001b[1;33m\u001b[0m\u001b[0m\n\u001b[0;32m     16\u001b[0m         \u001b[0mdel0\u001b[0m \u001b[1;33m=\u001b[0m \u001b[0mnp\u001b[0m\u001b[1;33m.\u001b[0m\u001b[0mrandom\u001b[0m\u001b[1;33m.\u001b[0m\u001b[0mchoice\u001b[0m\u001b[1;33m(\u001b[0m\u001b[0marr2\u001b[0m\u001b[1;33m,\u001b[0m \u001b[0mi\u001b[0m\u001b[1;33m)\u001b[0m\u001b[1;33m\u001b[0m\u001b[1;33m\u001b[0m\u001b[0m\n",
      "\u001b[1;31mTypeError\u001b[0m: 'module' object is not callable"
     ]
    }
   ],
   "source": [
    "import random\n",
    "import numpy as np\n",
    "\n",
    "\n",
    "class Array:\n",
    "    def __init__(self) -> None:\n",
    "        self.arr = []\n",
    "        self.n = 0\n",
    "\n",
    "    def __len__(self):\n",
    "        return self.n\n",
    "\n",
    "def make_array(arr):\n",
    "    arr2 = random(arr)\n",
    "    for i in arr2:\n",
    "        del0 = np.random.choice(arr2, i)\n",
    "    np.delete(del0)\n",
    "    return arr2\n",
    "\n",
    "def find_element(arr, arr2):\n",
    "    for k in arr:\n",
    "        for j in arr2:\n",
    "            if arr[k] == arr2[k]:\n",
    "                return \"No elements missing.\"\n",
    "    return k\n",
    "\n",
    "\n",
    "Arr0 = Array()\n",
    "arrr = [1,2,3,4,5,6]\n",
    "make_array(arrr)\n",
    "\n",
    "\n"
   ]
  }
 ],
 "metadata": {
  "kernelspec": {
   "display_name": "Python 3",
   "language": "python",
   "name": "python3"
  },
  "language_info": {
   "codemirror_mode": {
    "name": "ipython",
    "version": 3
   },
   "file_extension": ".py",
   "mimetype": "text/x-python",
   "name": "python",
   "nbconvert_exporter": "python",
   "pygments_lexer": "ipython3",
   "version": "3.9.7"
  }
 },
 "nbformat": 4,
 "nbformat_minor": 2
}
